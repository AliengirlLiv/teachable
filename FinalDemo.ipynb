{
 "cells": [
  {
   "cell_type": "code",
   "execution_count": 1,
   "metadata": {},
   "outputs": [],
   "source": [
    "# TODO\n",
    "# IMPORTANT\n",
    "# - speed slowdown\n",
    "# - Does it run from scratch on a new computer?\n",
    "# - Add saved buffer to the repo and option to load it\n",
    "# - change num_rollouts back\n",
    "\n",
    "# MEDIUM\n",
    "# Add option to choose other envs\n",
    "# Actually collect and check [15 mins]\n",
    "\n",
    "# STRETCH\n",
    "# - Setup.py\n",
    "# - Collect val set\n",
    "# - partial observability\n",
    "# - log more often\n",
    "# - Add early stopping on training\n",
    "# - maybe add training error bar?\n",
    "# - Add a reset\n",
    "# - Final summary\n",
    "# - Intro text\n",
    "\n",
    "\n",
    "\n",
    "\n",
    "# What's up with the speed???????????????\n",
    "# - check if it was doing this  before\n",
    "# - time diff code sections --> confirm it's the redraw that gets slower"
   ]
  },
  {
   "cell_type": "markdown",
   "metadata": {},
   "source": [
    "# Setup - do this once"
   ]
  },
  {
   "cell_type": "code",
   "execution_count": 2,
   "metadata": {
    "tags": [
     "hide-input"
    ]
   },
   "outputs": [
    {
     "name": "stdout",
     "output_type": "stream",
     "text": [
      "fatal: destination path 'teachable' already exists and is not an empty directory.\r\n"
     ]
    }
   ],
   "source": [
    "!git clone https://github.com/aliengirlliv/teachable 1> /dev/null"
   ]
  },
  {
   "cell_type": "code",
   "execution_count": 3,
   "metadata": {
    "tags": [
     "hide-input"
    ]
   },
   "outputs": [
    {
     "name": "stdout",
     "output_type": "stream",
     "text": [
      "/home/olivia/Documents/Teachable/demo/teachable\n"
     ]
    }
   ],
   "source": [
    "cd teachable"
   ]
  },
  {
   "cell_type": "code",
   "execution_count": 4,
   "metadata": {
    "scrolled": true,
    "tags": [
     "hide-input"
    ]
   },
   "outputs": [
    {
     "name": "stdout",
     "output_type": "stream",
     "text": [
      "Already on 'sac'\r\n"
     ]
    }
   ],
   "source": [
    "!git checkout sac 1> /dev/null\n",
    "!pip install -r reqs.txt 1> /dev/null"
   ]
  },
  {
   "cell_type": "markdown",
   "metadata": {},
   "source": [
    "# Setup - Do this each time you reload the notebook"
   ]
  },
  {
   "cell_type": "code",
   "execution_count": 5,
   "metadata": {},
   "outputs": [],
   "source": [
    "%matplotlib tk"
   ]
  },
  {
   "cell_type": "code",
   "execution_count": 6,
   "metadata": {},
   "outputs": [
    {
     "name": "stdout",
     "output_type": "stream",
     "text": [
      "[Errno 2] No such file or directory: 'teachable'\n",
      "/home/olivia/Documents/Teachable/demo/teachable\n"
     ]
    }
   ],
   "source": [
    "cd teachable"
   ]
  },
  {
   "cell_type": "code",
   "execution_count": 7,
   "metadata": {},
   "outputs": [],
   "source": [
    "from final_demo import *\n",
    "import ipywidgets as widgets\n",
    "from IPython.display import HTML"
   ]
  },
  {
   "cell_type": "code",
   "execution_count": 8,
   "metadata": {
    "tags": [
     "hide-input"
    ]
   },
   "outputs": [
    {
     "name": "stdout",
     "output_type": "stream",
     "text": [
      "[Errno 2] No such file or directory: 'teachable'\n",
      "/home/olivia/Documents/Teachable/demo/teachable\n"
     ]
    }
   ],
   "source": [
    "cd teachable"
   ]
  },
  {
   "cell_type": "markdown",
   "metadata": {},
   "source": [
    "# Setup\n",
    "\n",
    "## Instructions\n",
    "1. Select the collection mode.\n",
    "    - \"Advice\" runs the \"Improvement\" phase of our method, allowing you to coach an agent through\n",
    "    - \"Demos\" lets you collect trajectories providing actions each timestep.\n",
    "    - \"Precollected\" loads a set of trajectories precollected using 1/2 hr of human time using our method.\n",
    "2. Select a save name (any string describing this experiment).\n",
    "3. Collect demos below\n"
   ]
  },
  {
   "cell_type": "code",
   "execution_count": 9,
   "metadata": {
    "tags": [
     "hide-input"
    ]
   },
   "outputs": [
    {
     "data": {
      "application/vnd.jupyter.widget-view+json": {
       "model_id": "997bad5a9ddf45fe8320228fd0e15218",
       "version_major": 2,
       "version_minor": 0
      },
      "text/plain": [
       "Box(children=(ToggleButtons(description='Collect Mode', options=('Advice', 'Demos', 'Precollected'), value='Ad…"
      ]
     },
     "metadata": {},
     "output_type": "display_data"
    }
   ],
   "source": [
    "widgets.Box(items)"
   ]
  },
  {
   "cell_type": "markdown",
   "metadata": {},
   "source": [
    "# Collection\n",
    "To collect data, run the block below. A window will open which lets you collect data.  \n",
    "\n",
    "## Task\n",
    "The agent's task is to unlock a door by collecting a matching-colored key and using it on the corresponding door. (To speed up training time, we always spawn the agent in the same room as the locked door.)\n",
    "\n",
    "### Using Advice\n",
    "\n",
    "The agent you will be coaching has been pretrained to understand Waypoint advice. It has never seen this particular environment/task before, and has never had to unlock a door. Click on a square to tell the agent to head there and manipulate any item present.\n",
    "\n",
    "### Providing Demos\n",
    "Use the arrow keys to navigate, Page Up/Down to manipulate objects, and Space to open doors.\n",
    "\n",
    "### Using precollected data\n",
    "Skip the block below\n"
   ]
  },
  {
   "cell_type": "code",
   "execution_count": 10,
   "metadata": {
    "scrolled": true
   },
   "outputs": [
    {
     "ename": "TypeError",
     "evalue": "show() got an unexpected keyword argument 'block'",
     "output_type": "error",
     "traceback": [
      "\u001b[0;31m---------------------------------------------------------------------------\u001b[0m",
      "\u001b[0;31mTypeError\u001b[0m                                 Traceback (most recent call last)",
      "\u001b[0;32m<ipython-input-10-8c1baf5cae46>\u001b[0m in \u001b[0;36m<module>\u001b[0;34m\u001b[0m\n\u001b[1;32m      1\u001b[0m collector = HumanFeedback(collect_type=env_params.collect_type, \n\u001b[0;32m----> 2\u001b[0;31m                           save_path=env_params.save_path)\n\u001b[0m",
      "\u001b[0;32m~/Documents/Teachable/demo/teachable/final_demo.py\u001b[0m in \u001b[0;36m__init__\u001b[0;34m(self, collect_type, save_path)\u001b[0m\n\u001b[1;32m    109\u001b[0m \u001b[0;34m\u001b[0m\u001b[0m\n\u001b[1;32m    110\u001b[0m         \u001b[0mself\u001b[0m\u001b[0;34m.\u001b[0m\u001b[0mreset\u001b[0m\u001b[0;34m(\u001b[0m\u001b[0;34m)\u001b[0m\u001b[0;34m\u001b[0m\u001b[0m\n\u001b[0;32m--> 111\u001b[0;31m         \u001b[0mself\u001b[0m\u001b[0;34m.\u001b[0m\u001b[0mwindow\u001b[0m\u001b[0;34m.\u001b[0m\u001b[0mshow\u001b[0m\u001b[0;34m(\u001b[0m\u001b[0mblock\u001b[0m\u001b[0;34m=\u001b[0m\u001b[0;32mTrue\u001b[0m\u001b[0;34m)\u001b[0m\u001b[0;34m\u001b[0m\u001b[0m\n\u001b[0m\u001b[1;32m    112\u001b[0m \u001b[0;34m\u001b[0m\u001b[0m\n\u001b[1;32m    113\u001b[0m \u001b[0;34m\u001b[0m\u001b[0m\n",
      "\u001b[0;31mTypeError\u001b[0m: show() got an unexpected keyword argument 'block'"
     ]
    }
   ],
   "source": [
    "collector = HumanFeedback(collect_type=env_params.collect_type, \n",
    "                          save_path=env_params.save_path)"
   ]
  },
  {
   "cell_type": "code",
   "execution_count": null,
   "metadata": {},
   "outputs": [],
   "source": [
    "assert False"
   ]
  },
  {
   "cell_type": "code",
   "execution_count": 12,
   "metadata": {},
   "outputs": [
    {
     "ename": "NameError",
     "evalue": "name 'collector' is not defined",
     "output_type": "error",
     "traceback": [
      "\u001b[0;31m---------------------------------------------------------------------------\u001b[0m",
      "\u001b[0;31mNameError\u001b[0m                                 Traceback (most recent call last)",
      "\u001b[0;32m<ipython-input-12-c1ebd3fc846e>\u001b[0m in \u001b[0;36m<module>\u001b[0;34m\u001b[0m\n\u001b[0;32m----> 1\u001b[0;31m \u001b[0mcollector\u001b[0m\u001b[0;34m.\u001b[0m\u001b[0msave_path\u001b[0m\u001b[0;34m\u001b[0m\u001b[0m\n\u001b[0m",
      "\u001b[0;31mNameError\u001b[0m: name 'collector' is not defined"
     ]
    }
   ],
   "source": [
    "collector.save_path"
   ]
  },
  {
   "cell_type": "markdown",
   "metadata": {},
   "source": [
    "# Train\n",
    "\n",
    "Here, we train an advice-free policy on the collected trajectories using the buffer of collected trajectories.\n"
   ]
  },
  {
   "cell_type": "code",
   "execution_count": null,
   "metadata": {
    "scrolled": true
   },
   "outputs": [],
   "source": [
    "args = make_args(collector, env_params.save_path)  \n",
    "run_experiment(args)"
   ]
  },
  {
   "cell_type": "markdown",
   "metadata": {},
   "source": [
    "# Visualize\n",
    "\n",
    "Play video saved during training. This agent does not receive advice."
   ]
  },
  {
   "cell_type": "code",
   "execution_count": null,
   "metadata": {},
   "outputs": [
    {
     "name": "stdout",
     "output_type": "stream",
     "text": [
      "ending trajectory\n",
      "SAVING False\n",
      "ending trajectory\n",
      "SAVING False\n",
      "ending trajectory\n",
      "SAVING False\n",
      "ending trajectory\n",
      "SAVING False\n",
      "ending trajectory\n",
      "SAVING False\n",
      "ending trajectory\n",
      "SAVING False\n",
      "ending trajectory\n",
      "SAVING False\n",
      "ending trajectory\n",
      "SAVING False\n",
      "ending trajectory\n",
      "SAVING False\n",
      "ending trajectory\n",
      "SAVING False\n",
      "ending trajectory\n",
      "SAVING False\n",
      "Invalid key pagedown\n"
     ]
    },
    {
     "name": "stderr",
     "output_type": "stream",
     "text": [
      "Traceback (most recent call last):\n",
      "  File \"/home/olivia/anaconda3/lib/python3.7/site-packages/matplotlib/cbook/__init__.py\", line 387, in process\n",
      "    proxy(*args, **kwargs)\n",
      "  File \"/home/olivia/anaconda3/lib/python3.7/site-packages/matplotlib/cbook/__init__.py\", line 227, in __call__\n",
      "    return mtd(*args, **kwargs)\n",
      "  File \"/home/olivia/Documents/Teachable/demo/teachable/final_demo.py\", line 555, in key_handler\n",
      "    raise print(\"Invalid key\", event.key)\n",
      "TypeError: exceptions must derive from BaseException\n"
     ]
    },
    {
     "name": "stdout",
     "output_type": "stream",
     "text": [
      "ending trajectory\n",
      "SAVING False\n",
      "ending trajectory\n",
      "SAVING False\n",
      "ending trajectory\n",
      "SAVING False\n",
      "ending trajectory\n",
      "SAVING False\n",
      "ending trajectory\n",
      "SAVING False\n",
      "ending trajectory\n",
      "SAVING False\n",
      "ending trajectory\n",
      "SAVING False\n",
      "ending trajectory\n",
      "SAVING False\n",
      "ending trajectory\n",
      "SAVING False\n",
      "ending trajectory\n",
      "SAVING False\n",
      "ending trajectory\n",
      "SAVING False\n",
      "ending trajectory\n",
      "SAVING False\n",
      "ending trajectory\n",
      "SAVING False\n",
      "ending trajectory\n",
      "SAVING False\n",
      "ending trajectory\n",
      "SAVING False\n",
      "ending trajectory\n",
      "SAVING False\n",
      "ending trajectory\n",
      "SAVING False\n",
      "ending trajectory\n",
      "SAVING False\n",
      "ending trajectory\n",
      "SAVING False\n",
      "ending trajectory\n",
      "SAVING False\n",
      "ending trajectory\n",
      "SAVING False\n",
      "ending trajectory\n",
      "SAVING False\n",
      "ending trajectory\n",
      "SAVING False\n",
      "ending trajectory\n",
      "SAVING False\n",
      "ending trajectory\n",
      "SAVING False\n",
      "ending trajectory\n",
      "SAVING False\n",
      "ending trajectory\n",
      "SAVING False\n",
      "ending trajectory\n",
      "SAVING False\n",
      "ending trajectory\n",
      "SAVING False\n",
      "ending trajectory\n",
      "SAVING False\n",
      "ending trajectory\n",
      "SAVING False\n",
      "ending trajectory\n",
      "SAVING False\n",
      "ending trajectory\n",
      "SAVING False\n",
      "ending trajectory\n",
      "SAVING False\n",
      "ending trajectory\n",
      "SAVING False\n",
      "ending trajectory\n",
      "SAVING False\n",
      "ending trajectory\n",
      "SAVING False\n",
      "ending trajectory\n",
      "SAVING False\n",
      "ending trajectory\n",
      "SAVING False\n",
      "ending trajectory\n",
      "SAVING False\n",
      "ending trajectory\n",
      "SAVING False\n",
      "ending trajectory\n",
      "SAVING False\n",
      "ending trajectory\n",
      "SAVING False\n",
      "ending trajectory\n",
      "SAVING False\n",
      "ending trajectory\n",
      "SAVING False\n",
      "ending trajectory\n",
      "SAVING False\n",
      "ending trajectory\n",
      "SAVING False\n",
      "ending trajectory\n",
      "SAVING False\n",
      "ending trajectory\n",
      "SAVING False\n",
      "ending trajectory\n",
      "SAVING False\n",
      "ending trajectory\n",
      "SAVING False\n",
      "ending trajectory\n",
      "SAVING False\n",
      "ending trajectory\n",
      "SAVING False\n",
      "ending trajectory\n",
      "SAVING False\n",
      "ending trajectory\n",
      "SAVING False\n",
      "ending trajectory\n",
      "SAVING False\n",
      "ending trajectory\n",
      "SAVING False\n",
      "ending trajectory\n",
      "SAVING False\n",
      "ending trajectory\n",
      "SAVING False\n",
      "ending trajectory\n",
      "SAVING False\n",
      "ending trajectory\n",
      "SAVING False\n",
      "ending trajectory\n",
      "SAVING False\n",
      "ending trajectory\n",
      "SAVING False\n",
      "ending trajectory\n",
      "SAVING False\n",
      "ending trajectory\n",
      "SAVING False\n",
      "ending trajectory\n",
      "SAVING False\n",
      "ending trajectory\n",
      "SAVING False\n",
      "ending trajectory\n",
      "SAVING False\n",
      "ending trajectory\n",
      "SAVING False\n",
      "ending trajectory\n",
      "SAVING False\n",
      "ending trajectory\n",
      "SAVING False\n",
      "ending trajectory\n",
      "SAVING False\n",
      "ending trajectory\n",
      "SAVING False\n",
      "ending trajectory\n",
      "SAVING False\n",
      "ending trajectory\n",
      "SAVING False\n",
      "ending trajectory\n",
      "SAVING False\n",
      "ending trajectory\n",
      "SAVING False\n",
      "ending trajectory\n",
      "SAVING False\n",
      "ending trajectory\n",
      "SAVING False\n",
      "ending trajectory\n",
      "SAVING False\n",
      "ending trajectory\n",
      "SAVING False\n",
      "ending trajectory\n",
      "SAVING False\n",
      "ending trajectory\n",
      "SAVING False\n",
      "ending trajectory\n",
      "SAVING False\n",
      "ending trajectory\n",
      "SAVING False\n",
      "ending trajectory\n",
      "SAVING False\n"
     ]
    }
   ],
   "source": [
    "html_str = display_trained_model(env_params.save_path)\n",
    "HTML(html_str)"
   ]
  },
  {
   "cell_type": "code",
   "execution_count": null,
   "metadata": {},
   "outputs": [],
   "source": []
  }
 ],
 "metadata": {
  "kernelspec": {
   "display_name": "Python 3",
   "language": "python",
   "name": "python3"
  },
  "language_info": {
   "codemirror_mode": {
    "name": "ipython",
    "version": 3
   },
   "file_extension": ".py",
   "mimetype": "text/x-python",
   "name": "python",
   "nbconvert_exporter": "python",
   "pygments_lexer": "ipython3",
   "version": "3.7.0"
  }
 },
 "nbformat": 4,
 "nbformat_minor": 2
}
